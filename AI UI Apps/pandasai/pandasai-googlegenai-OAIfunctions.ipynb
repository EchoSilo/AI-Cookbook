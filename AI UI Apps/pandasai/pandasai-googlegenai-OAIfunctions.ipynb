{
 "cells": [
  {
   "cell_type": "markdown",
   "metadata": {},
   "source": [
    "as of 1/1/2024 Notes: this did not work because googlegenerativeai does not work with openaifunctionsagent"
   ]
  },
  {
   "cell_type": "code",
   "execution_count": 2,
   "metadata": {},
   "outputs": [],
   "source": [
    "import os\n",
    "import pandas as pd\n",
    "from langchain_experimental.agents import create_pandas_dataframe_agent\n",
    "from langchain.chat_models import ChatOpenAI\n",
    "from langchain.llms.openai import OpenAI\n",
    "from langchain_experimental.agents.agent_toolkits import create_python_agent\n",
    "from langchain_experimental.tools import PythonREPLTool, PythonAstREPLTool\n",
    "from langchain.agents import load_tools, initialize_agent, AgentType\n",
    "from getpass import getpass\n",
    "from langchain.agents.openai_functions_agent.base import OpenAIFunctionsAgent\n",
    "from langchain.memory import ConversationBufferMemory\n",
    "from langchain.schema import SystemMessage\n",
    "from langchain.agents import AgentExecutor"
   ]
  },
  {
   "cell_type": "code",
   "execution_count": 4,
   "metadata": {},
   "outputs": [],
   "source": [
    "from dotenv import load_dotenv\n",
    "load_dotenv('../../.env')\n",
    "google_api_key = os.getenv(\"GOOGLE_API_KEY\")\n",
    "OPENAI_API_KEY = os.getenv(\"OPENAI_API_KEY\")"
   ]
  },
  {
   "cell_type": "code",
   "execution_count": 6,
   "metadata": {},
   "outputs": [],
   "source": [
    "#Import LLM and Embedding Models\n",
    "from langchain_google_genai import ChatGoogleGenerativeAI, GoogleGenerativeAI, GoogleGenerativeAIEmbeddings\n",
    "from langchain.embeddings import GooglePalmEmbeddings"
   ]
  },
  {
   "cell_type": "code",
   "execution_count": 31,
   "metadata": {},
   "outputs": [],
   "source": [
    "llm = GoogleGenerativeAI(model=\"models/text-bison-001\",temperature=0, google_api_key=google_api_key)\n",
    "embeddings=GooglePalmEmbeddings(model_name=\"models/embedding-gecko-001\",google_api_key=google_api_key)\n",
    "OpenAIllm = ChatOpenAI(api_key=OPENAI_API_KEY, temperature=0,model_name=\"gpt-3.5-turbo-1106\")\n",
    "gchatllm = ChatGoogleGenerativeAI(model=\"gemini-pro\",temperature=0, google_api_key=google_api_key, convert_system_message_to_human=True)"
   ]
  },
  {
   "cell_type": "code",
   "execution_count": 5,
   "metadata": {},
   "outputs": [],
   "source": [
    "from langchain.callbacks.manager import tracing_v2_enabled\n",
    "from langsmith import Client\n",
    "client = Client()\n",
    "\n",
    "LANGCHAIN_TRACING_V2=os.getenv(\"LANGCHAIN_TRACING_V2\")\n",
    "LANGCHAIN_API_KEY=os.getenv(\"LANGCHAIN_API_KEY\")\n",
    "LANGCHAIN_PROJECT=\"palm-ragfusion-shadow-99\"  # if not specified, defaults to \"default\"\n",
    "LANGCHAIN_ENDPOINT=os.getenv(\"LANGCHAIN_ENDPOINT\")\n",
    "OPENAI_API_KEY=OPENAI_API_KEY"
   ]
  },
  {
   "cell_type": "code",
   "execution_count": null,
   "metadata": {},
   "outputs": [],
   "source": [
    "dset = pd.read_csv('../../ado_backlog_clean.csv')"
   ]
  },
  {
   "cell_type": "code",
   "execution_count": 16,
   "metadata": {},
   "outputs": [
    {
     "data": {
      "text/html": [
       "<div>\n",
       "<style scoped>\n",
       "    .dataframe tbody tr th:only-of-type {\n",
       "        vertical-align: middle;\n",
       "    }\n",
       "\n",
       "    .dataframe tbody tr th {\n",
       "        vertical-align: top;\n",
       "    }\n",
       "\n",
       "    .dataframe thead th {\n",
       "        text-align: right;\n",
       "    }\n",
       "</style>\n",
       "<table border=\"1\" class=\"dataframe\">\n",
       "  <thead>\n",
       "    <tr style=\"text-align: right;\">\n",
       "      <th></th>\n",
       "      <th>Work Item Id</th>\n",
       "      <th>Work Item Type</th>\n",
       "      <th>Project Name</th>\n",
       "      <th>Iteration Path</th>\n",
       "      <th>Assigned To</th>\n",
       "      <th>Area Path</th>\n",
       "      <th>Date</th>\n",
       "      <th>Created Date</th>\n",
       "      <th>Activated Date</th>\n",
       "      <th>Resolved Date</th>\n",
       "      <th>Closed Date</th>\n",
       "      <th>Cycle Time Resolved</th>\n",
       "      <th>Changed Date</th>\n",
       "      <th>Iteration Start Date</th>\n",
       "      <th>Iteration End Date</th>\n",
       "      <th>State</th>\n",
       "      <th>State Category</th>\n",
       "      <th>Is Current</th>\n",
       "    </tr>\n",
       "  </thead>\n",
       "  <tbody>\n",
       "    <tr>\n",
       "      <th>0</th>\n",
       "      <td>1013432</td>\n",
       "      <td>User Story</td>\n",
       "      <td>MP-8465878480</td>\n",
       "      <td>AR-8465801115</td>\n",
       "      <td>NaN</td>\n",
       "      <td>NaN</td>\n",
       "      <td>2023-07-18 00:00:00</td>\n",
       "      <td>2020-08-04 00:00:00</td>\n",
       "      <td>2020-08-05 00:00:00</td>\n",
       "      <td>2020-08-05 00:00:00</td>\n",
       "      <td>2020-08-05 00:00:00</td>\n",
       "      <td>1</td>\n",
       "      <td>2023-03-31 00:00:00</td>\n",
       "      <td>2020-08-02 00:00:00</td>\n",
       "      <td>2020-08-14 00:00:00</td>\n",
       "      <td>Closed</td>\n",
       "      <td>Completed</td>\n",
       "      <td>True</td>\n",
       "    </tr>\n",
       "    <tr>\n",
       "      <th>1</th>\n",
       "      <td>1027305</td>\n",
       "      <td>Bug</td>\n",
       "      <td>MP-8465878480</td>\n",
       "      <td>AR-8465801115</td>\n",
       "      <td>AM-6710111097</td>\n",
       "      <td>AR-8465878480</td>\n",
       "      <td>2023-07-18 00:00:00</td>\n",
       "      <td>2020-08-07 00:00:00</td>\n",
       "      <td>2020-08-10 00:00:00</td>\n",
       "      <td>2020-08-10 00:00:00</td>\n",
       "      <td>2020-08-11 00:00:00</td>\n",
       "      <td>2</td>\n",
       "      <td>2021-08-20 00:00:00</td>\n",
       "      <td>2020-08-02 00:00:00</td>\n",
       "      <td>2020-08-14 00:00:00</td>\n",
       "      <td>Closed</td>\n",
       "      <td>Completed</td>\n",
       "      <td>True</td>\n",
       "    </tr>\n",
       "    <tr>\n",
       "      <th>2</th>\n",
       "      <td>1033357</td>\n",
       "      <td>Bug</td>\n",
       "      <td>MP-8465878480</td>\n",
       "      <td>AR-8465801115</td>\n",
       "      <td>AM-6710111097</td>\n",
       "      <td>AR-8465878480</td>\n",
       "      <td>2023-07-18 00:00:00</td>\n",
       "      <td>2020-08-10 00:00:00</td>\n",
       "      <td>2020-08-10 00:00:00</td>\n",
       "      <td>2020-08-10 00:00:00</td>\n",
       "      <td>2020-08-12 00:00:00</td>\n",
       "      <td>3</td>\n",
       "      <td>2021-08-20 00:00:00</td>\n",
       "      <td>2020-08-02 00:00:00</td>\n",
       "      <td>2020-08-14 00:00:00</td>\n",
       "      <td>Closed</td>\n",
       "      <td>Completed</td>\n",
       "      <td>True</td>\n",
       "    </tr>\n",
       "  </tbody>\n",
       "</table>\n",
       "</div>"
      ],
      "text/plain": [
       "   Work Item Id Work Item Type   Project Name Iteration Path    Assigned To  \\\n",
       "0       1013432     User Story  MP-8465878480  AR-8465801115            NaN   \n",
       "1       1027305            Bug  MP-8465878480  AR-8465801115  AM-6710111097   \n",
       "2       1033357            Bug  MP-8465878480  AR-8465801115  AM-6710111097   \n",
       "\n",
       "       Area Path                 Date         Created Date  \\\n",
       "0            NaN  2023-07-18 00:00:00  2020-08-04 00:00:00   \n",
       "1  AR-8465878480  2023-07-18 00:00:00  2020-08-07 00:00:00   \n",
       "2  AR-8465878480  2023-07-18 00:00:00  2020-08-10 00:00:00   \n",
       "\n",
       "        Activated Date        Resolved Date          Closed Date  \\\n",
       "0  2020-08-05 00:00:00  2020-08-05 00:00:00  2020-08-05 00:00:00   \n",
       "1  2020-08-10 00:00:00  2020-08-10 00:00:00  2020-08-11 00:00:00   \n",
       "2  2020-08-10 00:00:00  2020-08-10 00:00:00  2020-08-12 00:00:00   \n",
       "\n",
       "   Cycle Time Resolved         Changed Date Iteration Start Date  \\\n",
       "0                    1  2023-03-31 00:00:00  2020-08-02 00:00:00   \n",
       "1                    2  2021-08-20 00:00:00  2020-08-02 00:00:00   \n",
       "2                    3  2021-08-20 00:00:00  2020-08-02 00:00:00   \n",
       "\n",
       "    Iteration End Date   State State Category  Is Current  \n",
       "0  2020-08-14 00:00:00  Closed      Completed        True  \n",
       "1  2020-08-14 00:00:00  Closed      Completed        True  \n",
       "2  2020-08-14 00:00:00  Closed      Completed        True  "
      ]
     },
     "execution_count": 16,
     "metadata": {},
     "output_type": "execute_result"
    }
   ],
   "source": [
    "dset.head(3)"
   ]
  },
  {
   "cell_type": "code",
   "execution_count": 32,
   "metadata": {},
   "outputs": [],
   "source": [
    "memory = ConversationBufferMemory(memory_key=\"chat_history\")\n",
    "dataset = {'df': dset}\n",
    "tools = [PythonAstREPLTool(locals=dataset)]\n",
    "tool_names = [tool.name for tool in tools]\n",
    "prompt = OpenAIFunctionsAgent.create_prompt(system_message=SystemMessage(content='You are an intelligent chatbot capable of running Python code to do dataset exploration and machine learning. You are working with python pandas DataFrame with name `df`, read from the document text from the document loader for context. You should solve the question by small logical incremental steps and use the tools available.'))\n",
    "agent = AgentExecutor.from_agent_and_tools(\n",
    "    agent=OpenAIFunctionsAgent(llm=gchatllm, prompt=prompt, tools=tools, verbose=True),\n",
    "    tools=tools, \n",
    "    verbose=True,\n",
    "    memory=memory,\n",
    "    handle_parsing_errors=True                          \n",
    ")"
   ]
  },
  {
   "cell_type": "code",
   "execution_count": 33,
   "metadata": {},
   "outputs": [
    {
     "name": "stdout",
     "output_type": "stream",
     "text": [
      "\n",
      "\n",
      "\u001b[1m> Entering new AgentExecutor chain...\u001b[0m\n",
      "\u001b[32;1m\u001b[1;3m```python\n",
      "import pandas as pd\n",
      "\n",
      "# Get the unique area paths\n",
      "area_paths = df['Area Path'].unique()\n",
      "\n",
      "# Create a new DataFrame to store the results\n",
      "results = pd.DataFrame(columns=['Area Path', 'Work Items in New State'])\n",
      "\n",
      "# Iterate over the area paths\n",
      "for area_path in area_paths:\n",
      "    # Filter the DataFrame to only include rows for the current area path\n",
      "    area_df = df[df['Area Path'] == area_path]\n",
      "\n",
      "    # Count the number of work items in a new state\n",
      "    new_state_count = area_df[area_df['State'] == 'New'].count()['Work Item ID']\n",
      "\n",
      "    # Add the results to the new DataFrame\n",
      "    results = results.append({'Area Path': area_path, 'Work Items in New State': new_state_count}, ignore_index=True)\n",
      "\n",
      "# Sort the results by the number of work items in a new state\n",
      "results = results.sort_values('Work Items in New State', ascending=False)\n",
      "\n",
      "# Get the area path with the most work items in a new state\n",
      "area_path_with_most_new_work_items = results['Area Path'].iloc[0]\n",
      "\n",
      "# Print the results\n",
      "print(f'The area path with the most work items in a new state is: {area_path_with_most_new_work_items}')\n",
      "```\u001b[0m\n",
      "\n",
      "\u001b[1m> Finished chain.\u001b[0m\n"
     ]
    },
    {
     "data": {
      "text/plain": [
       "\"```python\\nimport pandas as pd\\n\\n# Get the unique area paths\\narea_paths = df['Area Path'].unique()\\n\\n# Create a new DataFrame to store the results\\nresults = pd.DataFrame(columns=['Area Path', 'Work Items in New State'])\\n\\n# Iterate over the area paths\\nfor area_path in area_paths:\\n    # Filter the DataFrame to only include rows for the current area path\\n    area_df = df[df['Area Path'] == area_path]\\n\\n    # Count the number of work items in a new state\\n    new_state_count = area_df[area_df['State'] == 'New'].count()['Work Item ID']\\n\\n    # Add the results to the new DataFrame\\n    results = results.append({'Area Path': area_path, 'Work Items in New State': new_state_count}, ignore_index=True)\\n\\n# Sort the results by the number of work items in a new state\\nresults = results.sort_values('Work Items in New State', ascending=False)\\n\\n# Get the area path with the most work items in a new state\\narea_path_with_most_new_work_items = results['Area Path'].iloc[0]\\n\\n# Print the results\\nprint(f'The area path with the most work items in a new state is: {area_path_with_most_new_work_items}')\\n```\""
      ]
     },
     "execution_count": 33,
     "metadata": {},
     "output_type": "execute_result"
    }
   ],
   "source": [
    "agent.run(\"from the dataset determine which area path has the most work items in a new state.\")"
   ]
  },
  {
   "cell_type": "code",
   "execution_count": 11,
   "metadata": {},
   "outputs": [
    {
     "name": "stdout",
     "output_type": "stream",
     "text": [
      "\n",
      "\n",
      "\u001b[1m> Entering new AgentExecutor chain...\u001b[0m\n",
      "\u001b[32;1m\u001b[1;3m```python\n",
      "import pandas as pd\n",
      "\n",
      "df = pd.read_csv(\"data/work_items.csv\")\n",
      "\n",
      "new_state_df = df[df[\"state\"] == \"New\"]\n",
      "\n",
      "area_path_counts = new_state_df[\"area_path\"].value_counts()\n",
      "\n",
      "print(area_path_counts.head())\n",
      "```\u001b[0m\n",
      "\n",
      "\u001b[1m> Finished chain.\u001b[0m\n"
     ]
    },
    {
     "data": {
      "text/plain": [
       "'```python\\nimport pandas as pd\\n\\ndf = pd.read_csv(\"data/work_items.csv\")\\n\\nnew_state_df = df[df[\"state\"] == \"New\"]\\n\\narea_path_counts = new_state_df[\"area_path\"].value_counts()\\n\\nprint(area_path_counts.head())\\n```'"
      ]
     },
     "execution_count": 11,
     "metadata": {},
     "output_type": "execute_result"
    }
   ],
   "source": [
    "agent.run(\"which area path has the most work items in a new state?\")"
   ]
  },
  {
   "cell_type": "markdown",
   "metadata": {},
   "source": [
    "Try create_pandas_dataframe_agent"
   ]
  },
  {
   "cell_type": "code",
   "execution_count": null,
   "metadata": {},
   "outputs": [],
   "source": [
    "from langchain.agents import AgentType, create_pandas_dataframe_agent"
   ]
  },
  {
   "cell_type": "code",
   "execution_count": null,
   "metadata": {},
   "outputs": [],
   "source": [
    "agent = create_pandas_dataframe_agent(\n",
    "    llm, \n",
    "    dset, \n",
    "    verbose=True,\n",
    "    return_intermediate_steps=True,\n",
    "    max_iterations=3,\n",
    ")                     \n"
   ]
  },
  {
   "cell_type": "markdown",
   "metadata": {},
   "source": [
    "Put in Agent Executor"
   ]
  },
  {
   "cell_type": "code",
   "execution_count": null,
   "metadata": {},
   "outputs": [],
   "source": [
    "agent = AgentExecutor.from_agent_and_tools(\n",
    "    agent= create_pandas_dataframe_agent(llm, dset, verbose=True),\n",
    "    tools=tools, \n",
    "    verbose=True,\n",
    "    memory=memory,\n",
    "    handle_parsing_errors=True                          \n",
    ")"
   ]
  }
 ],
 "metadata": {
  "kernelspec": {
   "display_name": "envPython310",
   "language": "python",
   "name": "python3"
  },
  "language_info": {
   "codemirror_mode": {
    "name": "ipython",
    "version": 3
   },
   "file_extension": ".py",
   "mimetype": "text/x-python",
   "name": "python",
   "nbconvert_exporter": "python",
   "pygments_lexer": "ipython3",
   "version": "3.10.11"
  }
 },
 "nbformat": 4,
 "nbformat_minor": 2
}
