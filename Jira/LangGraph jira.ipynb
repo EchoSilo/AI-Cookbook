{
 "cells": [
  {
   "cell_type": "markdown",
   "id": "FWsjzjZjzx6S",
   "metadata": {
    "id": "FWsjzjZjzx6S"
   },
   "source": [
    "Working 03/01/2025"
   ]
  },
  {
   "cell_type": "markdown",
   "id": "245a954a",
   "metadata": {
    "id": "245a954a"
   },
   "source": [
    "# Langchain LangGraph Jira Toolkit\n",
    "\n",
    "This notebook goes over how to use the `Jira` toolkit.\n",
    "\n",
    "The `Jira` toolkit allows agents to interact with a given Jira instance, performing actions such as searching for issues and creating issues, the tool wraps the atlassian-python-api library, for more see: https://atlassian-python-api.readthedocs.io/jira.html\n",
    "\n",
    "## Installation and setup\n",
    "\n",
    "To use this tool, you must first set as environment variables:\n",
    "    JIRA_API_TOKEN\n",
    "    JIRA_USERNAME\n",
    "    JIRA_INSTANCE_URL\n",
    "    JIRA_CLOUD"
   ]
  },
  {
   "cell_type": "code",
   "execution_count": null,
   "id": "961b3689",
   "metadata": {
    "ExecuteTime": {
     "end_time": "2023-04-17T10:21:20.168639Z",
     "start_time": "2023-04-17T10:21:18.698672Z"
    },
    "colab": {
     "base_uri": "https://localhost:8080/"
    },
    "executionInfo": {
     "elapsed": 15915,
     "status": "ok",
     "timestamp": 1740884264358,
     "user": {
      "displayName": "James Tention",
      "userId": "13797586854856771686"
     },
     "user_tz": 300
    },
    "id": "961b3689",
    "outputId": "410a1bfd-0c86-425c-a8c4-f45be85c80cf",
    "vscode": {
     "languageId": "shellscript"
    }
   },
   "outputs": [],
   "source": [
    "%pip install --upgrade --quiet  atlassian-python-api"
   ]
  },
  {
   "cell_type": "code",
   "execution_count": null,
   "id": "e84d425c",
   "metadata": {
    "colab": {
     "base_uri": "https://localhost:8080/"
    },
    "executionInfo": {
     "elapsed": 27691,
     "status": "ok",
     "timestamp": 1740884292075,
     "user": {
      "displayName": "James Tention",
      "userId": "13797586854856771686"
     },
     "user_tz": 300
    },
    "id": "e84d425c",
    "outputId": "7543e9b3-8869-45f6-8d6f-e41194c4d701",
    "vscode": {
     "languageId": "shellscript"
    }
   },
   "outputs": [],
   "source": [
    "%pip install -qU langchain-community langchain_openai langgraph"
   ]
  },
  {
   "cell_type": "code",
   "execution_count": null,
   "id": "34bb5968",
   "metadata": {
    "ExecuteTime": {
     "end_time": "2023-04-17T10:21:23.730922Z",
     "start_time": "2023-04-17T10:21:22.911233Z"
    },
    "execution": {
     "iopub.execute_input": "2024-10-02T17:40:07.356954Z",
     "iopub.status.busy": "2024-10-02T17:40:07.356792Z",
     "iopub.status.idle": "2024-10-02T17:40:07.359943Z",
     "shell.execute_reply": "2024-10-02T17:40:07.359476Z",
     "shell.execute_reply.started": "2024-10-02T17:40:07.356942Z"
    },
    "executionInfo": {
     "elapsed": 18,
     "status": "ok",
     "timestamp": 1740885629591,
     "user": {
      "displayName": "James Tention",
      "userId": "13797586854856771686"
     },
     "user_tz": 300
    },
    "id": "34bb5968"
   },
   "outputs": [],
   "source": [
    "from langchain.agents import AgentType, initialize_agent\n",
    "from langchain_community.agent_toolkits.jira.toolkit import JiraToolkit\n",
    "from langchain_community.utilities.jira import JiraAPIWrapper\n",
    "from langchain_openai import ChatOpenAI\n",
    "import os\n",
    "from langchain_core.messages import AIMessage, HumanMessage\n",
    "from langchain_core.prompts import ChatPromptTemplate, MessagesPlaceholder\n",
    "from typing import Dict, List, Tuple, Any, TypedDict, Optional\n",
    "from langgraph.graph import StateGraph, END"
   ]
  },
  {
   "cell_type": "code",
   "execution_count": 6,
   "id": "cf6a8949",
   "metadata": {},
   "outputs": [
    {
     "data": {
      "text/plain": [
       "True"
      ]
     },
     "execution_count": 6,
     "metadata": {},
     "output_type": "execute_result"
    }
   ],
   "source": [
    "from dotenv import load_dotenv\n",
    "load_dotenv()"
   ]
  },
  {
   "cell_type": "code",
   "execution_count": 7,
   "id": "81fcf1ce",
   "metadata": {},
   "outputs": [],
   "source": [
    "JIRA_API_TOKEN = os.getenv(\"JIRA_API_TOKEN\")\n",
    "JIRA_USERNAME = os.getenv(\"JIRA_USERNAME\")\n",
    "JIRA_INSTANCE_URL = os.getenv(\"JIRA_INSTANCE_URL\")\n",
    "JIRA_CLOUD = os.getenv(\"JIRA_CLOUD\")\n",
    "OPENAI_API_KEY = os.getenv(\"OPENAI_API_KEY\")"
   ]
  },
  {
   "cell_type": "code",
   "execution_count": 8,
   "id": "b3050b55",
   "metadata": {
    "ExecuteTime": {
     "end_time": "2023-04-17T10:22:42.505412Z",
     "start_time": "2023-04-17T10:22:42.499447Z"
    },
    "execution": {
     "iopub.execute_input": "2024-10-02T17:40:16.201684Z",
     "iopub.status.busy": "2024-10-02T17:40:16.200922Z",
     "iopub.status.idle": "2024-10-02T17:40:16.208035Z",
     "shell.execute_reply": "2024-10-02T17:40:16.207564Z",
     "shell.execute_reply.started": "2024-10-02T17:40:16.201634Z"
    },
    "executionInfo": {
     "elapsed": 9,
     "status": "ok",
     "timestamp": 1740885629611,
     "user": {
      "displayName": "James Tention",
      "userId": "13797586854856771686"
     },
     "user_tz": 300
    },
    "id": "b3050b55",
    "jupyter": {
     "outputs_hidden": false
    }
   },
   "outputs": [],
   "source": [
    "os.environ[\"JIRA_API_TOKEN\"] = JIRA_API_TOKEN\n",
    "os.environ[\"JIRA_USERNAME\"] = JIRA_USERNAME\n",
    "os.environ[\"JIRA_INSTANCE_URL\"] = JIRA_INSTANCE_URL\n",
    "os.environ[\"OPENAI_API_KEY\"] = OPENAI_API_KEY\n",
    "os.environ[\"JIRA_CLOUD\"] = JIRA_CLOUD"
   ]
  },
  {
   "cell_type": "code",
   "execution_count": 9,
   "id": "c0768000-227b-4aa1-a838-4befbdefadb1",
   "metadata": {
    "execution": {
     "iopub.execute_input": "2024-10-02T17:42:00.792867Z",
     "iopub.status.busy": "2024-10-02T17:42:00.792365Z",
     "iopub.status.idle": "2024-10-02T17:42:00.816979Z",
     "shell.execute_reply": "2024-10-02T17:42:00.816419Z",
     "shell.execute_reply.started": "2024-10-02T17:42:00.792827Z"
    },
    "executionInfo": {
     "elapsed": 260,
     "status": "ok",
     "timestamp": 1740885629872,
     "user": {
      "displayName": "James Tention",
      "userId": "13797586854856771686"
     },
     "user_tz": 300
    },
    "id": "c0768000-227b-4aa1-a838-4befbdefadb1"
   },
   "outputs": [],
   "source": [
    "llm = ChatOpenAI(model=\"gpt-4o-mini\",temperature=0,max_tokens=16384)\n",
    "jira = JiraAPIWrapper()\n",
    "toolkit = JiraToolkit.from_jira_api_wrapper(jira)\n",
    "jira_tools = toolkit.get_tools()"
   ]
  },
  {
   "cell_type": "markdown",
   "id": "961b3187-daf0-4907-9cc0-a69796fba4aa",
   "metadata": {
    "id": "961b3187-daf0-4907-9cc0-a69796fba4aa"
   },
   "source": [
    "## Tool usage\n",
    "\n",
    "Let's see what individual tools are in the Jira toolkit:"
   ]
  },
  {
   "cell_type": "code",
   "execution_count": 10,
   "id": "eb5cf521-9a91-44bc-b68e-bc4067d05a76",
   "metadata": {
    "execution": {
     "iopub.execute_input": "2024-10-02T17:42:27.232022Z",
     "iopub.status.busy": "2024-10-02T17:42:27.231140Z",
     "iopub.status.idle": "2024-10-02T17:42:27.240169Z",
     "shell.execute_reply": "2024-10-02T17:42:27.239693Z",
     "shell.execute_reply.started": "2024-10-02T17:42:27.231949Z"
    },
    "executionInfo": {
     "elapsed": 2,
     "status": "ok",
     "timestamp": 1740885629873,
     "user": {
      "displayName": "James Tention",
      "userId": "13797586854856771686"
     },
     "user_tz": 300
    },
    "id": "eb5cf521-9a91-44bc-b68e-bc4067d05a76"
   },
   "outputs": [],
   "source": [
    "# Define the state schema for LangGraph\n",
    "class AgentState(TypedDict):\n",
    "    messages: List[Any]  # Store conversation messages\n",
    "    tools: List[Any]  # Available tools"
   ]
  },
  {
   "cell_type": "code",
   "execution_count": 11,
   "id": "FALv2eFGx2vn",
   "metadata": {
    "executionInfo": {
     "elapsed": 2,
     "status": "ok",
     "timestamp": 1740885629873,
     "user": {
      "displayName": "James Tention",
      "userId": "13797586854856771686"
     },
     "user_tz": 300
    },
    "id": "FALv2eFGx2vn"
   },
   "outputs": [],
   "source": [
    "# Create the agent prompt (similar to ZERO_SHOT_REACT_DESCRIPTION's prompt)\n",
    "prompt = ChatPromptTemplate.from_messages([\n",
    "    (\"system\", \"\"\"You are a helpful assistant that can use Jira tools to help users manage their Jira instance.\n",
    "\n",
    "You have access to the following tools:\n",
    "\n",
    "{tools}\n",
    "\n",
    "Use the following format:\n",
    "Thought: you should always think about what to do\n",
    "Action: the action to take, should be one of [{tool_names}]\n",
    "Action Input: the input to the action\n",
    "Observation: the result of the action\n",
    "... (this Thought/Action/Action Input/Observation can repeat N times)\n",
    "Thought: I now know the final answer\n",
    "Final Answer: the final answer to the original question\"\"\"),\n",
    "    MessagesPlaceholder(variable_name=\"messages\"),\n",
    "])"
   ]
  },
  {
   "cell_type": "code",
   "execution_count": 12,
   "id": "0pbrUxtsx-Fh",
   "metadata": {
    "executionInfo": {
     "elapsed": 5,
     "status": "ok",
     "timestamp": 1740885629878,
     "user": {
      "displayName": "James Tention",
      "userId": "13797586854856771686"
     },
     "user_tz": 300
    },
    "id": "0pbrUxtsx-Fh"
   },
   "outputs": [],
   "source": [
    "# Define the agent node function for ChatOpenAI\n",
    "def agent_node(state: AgentState) -> dict:\n",
    "    # Get available tools and prepare tool info for the prompt\n",
    "    tools = state[\"tools\"]\n",
    "    tool_names = [tool.name for tool in tools]\n",
    "    tool_descs = \"\\n\".join([f\"{tool.name}: {tool.description}\" for tool in tools])\n",
    "\n",
    "    # Format the messages for the agent\n",
    "    messages = state[\"messages\"]\n",
    "\n",
    "    # Execute the agent\n",
    "    formatted_prompt = prompt.format_messages(\n",
    "        messages=messages,\n",
    "        tools=tool_descs,\n",
    "        tool_names=\", \".join(tool_names)\n",
    "    )\n",
    "\n",
    "    response = llm.invoke(formatted_prompt)\n",
    "\n",
    "    # Return updated state with the agent's response\n",
    "    return {\"messages\": messages + [response]}"
   ]
  },
  {
   "cell_type": "code",
   "execution_count": 13,
   "id": "8JnrSYMqyBEc",
   "metadata": {
    "executionInfo": {
     "elapsed": 29,
     "status": "ok",
     "timestamp": 1740885629908,
     "user": {
      "displayName": "James Tention",
      "userId": "13797586854856771686"
     },
     "user_tz": 300
    },
    "id": "8JnrSYMqyBEc"
   },
   "outputs": [],
   "source": [
    "# Define the function to route based on agent's output\n",
    "def route_actions(state: AgentState) -> str:\n",
    "    # Get the last message (which should be from the assistant)\n",
    "    last_message = state[\"messages\"][-1]\n",
    "    if not isinstance(last_message, AIMessage):\n",
    "        return \"agent\"\n",
    "\n",
    "    # Check if the message contains \"Final Answer:\"\n",
    "    if \"Final Answer:\" in last_message.content:\n",
    "        return END\n",
    "\n",
    "    # Check if the message has \"Action:\" and \"Action Input:\"\n",
    "    if \"Action:\" in last_message.content and \"Action Input:\" in last_message.content:\n",
    "        return \"action\"\n",
    "\n",
    "    # Default back to the agent if no clear directive\n",
    "    return \"agent\""
   ]
  },
  {
   "cell_type": "code",
   "execution_count": 14,
   "id": "W8UyC2mJyDTS",
   "metadata": {
    "executionInfo": {
     "elapsed": 1,
     "status": "ok",
     "timestamp": 1740885629939,
     "user": {
      "displayName": "James Tention",
      "userId": "13797586854856771686"
     },
     "user_tz": 300
    },
    "id": "W8UyC2mJyDTS"
   },
   "outputs": [],
   "source": [
    "# Define function to execute tools\n",
    "def execute_tools(state: AgentState) -> Dict:\n",
    "    # Get the last assistant message\n",
    "    last_message = state[\"messages\"][-1]\n",
    "\n",
    "    # Extract action and action input\n",
    "    content = last_message.content\n",
    "    action_start = content.find(\"Action:\") + len(\"Action:\")\n",
    "    action_end = content.find(\"\\n\", action_start)\n",
    "    action_input_start = content.find(\"Action Input:\") + len(\"Action Input:\")\n",
    "    action_input_end = content.find(\"\\n\", action_input_start)\n",
    "\n",
    "    if action_input_end == -1:  # If this is the last line\n",
    "        action_input_end = len(content)\n",
    "\n",
    "    action = content[action_start:action_end].strip()\n",
    "    action_input = content[action_input_start:action_input_end].strip()\n",
    "\n",
    "    # Find the appropriate tool\n",
    "    for tool in state[\"tools\"]:\n",
    "        if tool.name == action:\n",
    "            # Execute the tool\n",
    "            try:\n",
    "                observation = tool.invoke(action_input)\n",
    "            except Exception as e:\n",
    "                observation = f\"Error: {str(e)}\"\n",
    "            break\n",
    "    else:\n",
    "        observation = f\"Tool '{action}' not found. Available tools: {[t.name for t in state['tools']]}\"\n",
    "\n",
    "    # Create a new message with the observation\n",
    "    observation_message = HumanMessage(content=f\"Observation: {observation}\")\n",
    "\n",
    "    # Return the updated state\n",
    "    return {\"messages\": state[\"messages\"] + [observation_message]}"
   ]
  },
  {
   "cell_type": "code",
   "execution_count": 15,
   "id": "rZ8SouOiyHPN",
   "metadata": {
    "executionInfo": {
     "elapsed": 1,
     "status": "ok",
     "timestamp": 1740885629940,
     "user": {
      "displayName": "James Tention",
      "userId": "13797586854856771686"
     },
     "user_tz": 300
    },
    "id": "rZ8SouOiyHPN"
   },
   "outputs": [],
   "source": [
    "# Build the graph\n",
    "def build_jira_langgraph_agent():\n",
    "    # Set up the agent state graph\n",
    "    workflow = StateGraph(AgentState)\n",
    "\n",
    "    # Add the nodes\n",
    "    workflow.add_node(\"agent\", agent_node)\n",
    "    workflow.add_node(\"action\", execute_tools)\n",
    "\n",
    "    # Add the edges\n",
    "    workflow.add_conditional_edges(\"agent\", route_actions, {\n",
    "        \"action\": \"action\",\n",
    "        END: END,\n",
    "    })\n",
    "    workflow.add_edge(\"action\", \"agent\")\n",
    "\n",
    "    # Set the entry point\n",
    "    workflow.set_entry_point(\"agent\")\n",
    "\n",
    "    # Compile the graph\n",
    "    graph = workflow.compile()\n",
    "\n",
    "    return graph"
   ]
  },
  {
   "cell_type": "code",
   "execution_count": 16,
   "id": "_etfxf9vyIJl",
   "metadata": {
    "executionInfo": {
     "elapsed": 23,
     "status": "ok",
     "timestamp": 1740885629963,
     "user": {
      "displayName": "James Tention",
      "userId": "13797586854856771686"
     },
     "user_tz": 300
    },
    "id": "_etfxf9vyIJl"
   },
   "outputs": [],
   "source": [
    "# Initialize the LangGraph agent\n",
    "jira_graph = build_jira_langgraph_agent()"
   ]
  },
  {
   "cell_type": "code",
   "execution_count": 17,
   "id": "jarhrx1UyKlq",
   "metadata": {
    "executionInfo": {
     "elapsed": 1,
     "status": "ok",
     "timestamp": 1740885629964,
     "user": {
      "displayName": "James Tention",
      "userId": "13797586854856771686"
     },
     "user_tz": 300
    },
    "id": "jarhrx1UyKlq"
   },
   "outputs": [],
   "source": [
    "# Function to run the agent with a query\n",
    "def run_jira_agent(query: str):\n",
    "    # Initialize the state\n",
    "    state = {\n",
    "        \"messages\": [HumanMessage(content=query)],\n",
    "        \"tools\": jira_tools\n",
    "    }\n",
    "    # Run the graph\n",
    "    result = jira_graph.invoke(state)\n",
    "    # Extract the final answer from messages\n",
    "    messages = result[\"messages\"]\n",
    "    for message in reversed(messages):\n",
    "        if isinstance(message, AIMessage) and \"Final Answer:\" in message.content:\n",
    "            final_answer_start = message.content.rfind(\"Final Answer:\") + len(\"Final Answer:\")\n",
    "            return message.content[final_answer_start:].strip()\n",
    "    # If no final answer found, return the last message\n",
    "    return messages[-1].content if messages else \"No response generated\""
   ]
  },
  {
   "cell_type": "code",
   "execution_count": 18,
   "id": "242aec5f",
   "metadata": {},
   "outputs": [],
   "source": [
    "os.environ[\"LANGCHAIN_TRACING_V2\"] = \"false\""
   ]
  },
  {
   "cell_type": "code",
   "execution_count": 19,
   "id": "KHN0XyJqyM8o",
   "metadata": {
    "colab": {
     "base_uri": "https://localhost:8080/"
    },
    "executionInfo": {
     "elapsed": 4922,
     "status": "ok",
     "timestamp": 1740885634887,
     "user": {
      "displayName": "James Tention",
      "userId": "13797586854856771686"
     },
     "user_tz": 300
    },
    "id": "KHN0XyJqyM8o",
    "outputId": "24bbf108-f043-4768-d4ac-da3f5bea7a46"
   },
   "outputs": [
    {
     "name": "stdout",
     "output_type": "stream",
     "text": [
      "Here are the projects:\n",
      "\n",
      "1. **EchoSilo-kpmo** (Key: EKPMO, Type: Software)\n",
      "2. **EchoSilo-pmo** (Key: EPMO1, Type: Business)\n",
      "3. **ECHOSILO-SCRUM** (Key: ESCRUM, Type: Software)\n",
      "4. **Jira Training Company Team Scrum** (Key: JTCTS, Type: Software)\n",
      "5. **Jira Training Team** (Key: JTT, Type: Software, Style: Next-Gen)\n",
      "6. **Jira Training Top-Level Team** (Key: JTTLT, Type: Software)\n",
      "7. **Jira Training Team Scrum** (Key: JTTS, Type: Software, Style: Next-Gen)\n"
     ]
    }
   ],
   "source": [
    "# Example: Run the agent with your query\n",
    "result = run_jira_agent(\"give me a list of projects\")\n",
    "print(result)"
   ]
  },
  {
   "cell_type": "code",
   "execution_count": null,
   "id": "e8079812",
   "metadata": {},
   "outputs": [],
   "source": [
    "# Example: Run the agent with your query\n",
    "result = run_jira_agent(\"how many user stories are in ESCRUM project?\")\n",
    "print(result)"
   ]
  },
  {
   "cell_type": "code",
   "execution_count": null,
   "id": "34e0f73d",
   "metadata": {},
   "outputs": [],
   "source": [
    "# Example: Run the agent with your query\n",
    "result = run_jira_agent(\"how many user story points are in ESCRUM project?\")\n",
    "print(result)"
   ]
  }
 ],
 "metadata": {
  "colab": {
   "provenance": [
    {
     "file_id": "1BgR0W9cUAqT31b0iyw-SVGb69CVoBk0h",
     "timestamp": 1740883954084
    },
    {
     "file_id": "https://github.com/langchain-ai/langchain/blob/master/docs/docs/integrations/tools/jira.ipynb",
     "timestamp": 1740883343005
    }
   ]
  },
  "kernelspec": {
   "display_name": "envPython313-3",
   "language": "python",
   "name": "python3"
  },
  "language_info": {
   "codemirror_mode": {
    "name": "ipython",
    "version": 3
   },
   "file_extension": ".py",
   "mimetype": "text/x-python",
   "name": "python",
   "nbconvert_exporter": "python",
   "pygments_lexer": "ipython3",
   "version": "3.13.2"
  }
 },
 "nbformat": 4,
 "nbformat_minor": 5
}
