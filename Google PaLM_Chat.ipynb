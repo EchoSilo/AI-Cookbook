{
 "cells": [
  {
   "cell_type": "code",
   "execution_count": 1,
   "metadata": {},
   "outputs": [
    {
     "name": "stdout",
     "output_type": "stream",
     "text": [
      "Note: you may need to restart the kernel to use updated packages.\n"
     ]
    }
   ],
   "source": [
    "%pip install -q google-generativeai ipywidgets"
   ]
  },
  {
   "cell_type": "code",
   "execution_count": 24,
   "metadata": {},
   "outputs": [
    {
     "data": {
      "text/plain": [
       "True"
      ]
     },
     "execution_count": 24,
     "metadata": {},
     "output_type": "execute_result"
    }
   ],
   "source": [
    "import os\n",
    "import getpass\n",
    "import dotenv\n",
    "from dotenv import load_dotenv\n",
    "load_dotenv()"
   ]
  },
  {
   "cell_type": "code",
   "execution_count": 2,
   "metadata": {},
   "outputs": [],
   "source": [
    "import google.generativeai as palm"
   ]
  },
  {
   "cell_type": "code",
   "execution_count": 3,
   "metadata": {},
   "outputs": [],
   "source": [
    "palm.configure(api_key=os.getenv(\"GOOGLE_API_KEY\"))"
   ]
  },
  {
   "cell_type": "code",
   "execution_count": 4,
   "metadata": {},
   "outputs": [
    {
     "name": "stdout",
     "output_type": "stream",
     "text": [
      "Model Name: models/text-bison-001\n"
     ]
    }
   ],
   "source": [
    "models = [\n",
    "    m for m in palm.list_models() if \"generateText\" in m.supported_generation_methods\n",
    "]\n",
    "\n",
    "for m in models:\n",
    "    print(f\"Model Name: {m.name}\")"
   ]
  },
  {
   "cell_type": "markdown",
   "metadata": {},
   "source": [
    "Embeddings and Vector Stores"
   ]
  },
  {
   "cell_type": "code",
   "execution_count": null,
   "metadata": {},
   "outputs": [],
   "source": [
    "%pip install pypdf\n",
    "%pip install faiss-cpu"
   ]
  },
  {
   "cell_type": "code",
   "execution_count": 21,
   "metadata": {},
   "outputs": [
    {
     "name": "stdout",
     "output_type": "stream",
     "text": [
      "Collecting langchain-google-genaiNote: you may need to restart the kernel to use updated packages.\n",
      "\n",
      "  Downloading langchain_google_genai-0.0.5-py3-none-any.whl.metadata (2.7 kB)\n",
      "Requirement already satisfied: google-generativeai<0.4.0,>=0.3.1 in c:\\users\\jamal\\documents\\ai\\pythonvenv\\envpython310\\lib\\site-packages (from langchain-google-genai) (0.3.2)\n",
      "Requirement already satisfied: langchain-core<0.2,>=0.1 in c:\\users\\jamal\\documents\\ai\\pythonvenv\\envpython310\\lib\\site-packages (from langchain-google-genai) (0.1.3)\n",
      "Requirement already satisfied: google-ai-generativelanguage==0.4.0 in c:\\users\\jamal\\documents\\ai\\pythonvenv\\envpython310\\lib\\site-packages (from google-generativeai<0.4.0,>=0.3.1->langchain-google-genai) (0.4.0)\n",
      "Requirement already satisfied: google-auth in c:\\users\\jamal\\documents\\ai\\pythonvenv\\envpython310\\lib\\site-packages (from google-generativeai<0.4.0,>=0.3.1->langchain-google-genai) (2.25.2)\n",
      "Requirement already satisfied: google-api-core in c:\\users\\jamal\\documents\\ai\\pythonvenv\\envpython310\\lib\\site-packages (from google-generativeai<0.4.0,>=0.3.1->langchain-google-genai) (2.15.0)\n",
      "Requirement already satisfied: typing-extensions in c:\\users\\jamal\\documents\\ai\\pythonvenv\\envpython310\\lib\\site-packages (from google-generativeai<0.4.0,>=0.3.1->langchain-google-genai) (4.9.0)\n",
      "Requirement already satisfied: protobuf in c:\\users\\jamal\\documents\\ai\\pythonvenv\\envpython310\\lib\\site-packages (from google-generativeai<0.4.0,>=0.3.1->langchain-google-genai) (4.25.1)\n",
      "Requirement already satisfied: tqdm in c:\\users\\jamal\\documents\\ai\\pythonvenv\\envpython310\\lib\\site-packages (from google-generativeai<0.4.0,>=0.3.1->langchain-google-genai) (4.66.1)\n",
      "Requirement already satisfied: proto-plus<2.0.0dev,>=1.22.3 in c:\\users\\jamal\\documents\\ai\\pythonvenv\\envpython310\\lib\\site-packages (from google-ai-generativelanguage==0.4.0->google-generativeai<0.4.0,>=0.3.1->langchain-google-genai) (1.23.0)\n",
      "Requirement already satisfied: PyYAML>=5.3 in c:\\users\\jamal\\documents\\ai\\pythonvenv\\envpython310\\lib\\site-packages (from langchain-core<0.2,>=0.1->langchain-google-genai) (6.0.1)\n",
      "Requirement already satisfied: anyio<5,>=3 in c:\\users\\jamal\\documents\\ai\\pythonvenv\\envpython310\\lib\\site-packages (from langchain-core<0.2,>=0.1->langchain-google-genai) (3.7.1)\n",
      "Requirement already satisfied: jsonpatch<2.0,>=1.33 in c:\\users\\jamal\\documents\\ai\\pythonvenv\\envpython310\\lib\\site-packages (from langchain-core<0.2,>=0.1->langchain-google-genai) (1.33)\n",
      "Requirement already satisfied: langsmith<0.1.0,>=0.0.63 in c:\\users\\jamal\\documents\\ai\\pythonvenv\\envpython310\\lib\\site-packages (from langchain-core<0.2,>=0.1->langchain-google-genai) (0.0.73)\n",
      "Requirement already satisfied: packaging<24.0,>=23.2 in c:\\users\\jamal\\documents\\ai\\pythonvenv\\envpython310\\lib\\site-packages (from langchain-core<0.2,>=0.1->langchain-google-genai) (23.2)\n",
      "Requirement already satisfied: pydantic<3,>=1 in c:\\users\\jamal\\documents\\ai\\pythonvenv\\envpython310\\lib\\site-packages (from langchain-core<0.2,>=0.1->langchain-google-genai) (2.5.2)\n",
      "Requirement already satisfied: requests<3,>=2 in c:\\users\\jamal\\documents\\ai\\pythonvenv\\envpython310\\lib\\site-packages (from langchain-core<0.2,>=0.1->langchain-google-genai) (2.31.0)\n",
      "Requirement already satisfied: tenacity<9.0.0,>=8.1.0 in c:\\users\\jamal\\documents\\ai\\pythonvenv\\envpython310\\lib\\site-packages (from langchain-core<0.2,>=0.1->langchain-google-genai) (8.2.3)\n",
      "Requirement already satisfied: idna>=2.8 in c:\\users\\jamal\\documents\\ai\\pythonvenv\\envpython310\\lib\\site-packages (from anyio<5,>=3->langchain-core<0.2,>=0.1->langchain-google-genai) (3.6)\n",
      "Requirement already satisfied: sniffio>=1.1 in c:\\users\\jamal\\documents\\ai\\pythonvenv\\envpython310\\lib\\site-packages (from anyio<5,>=3->langchain-core<0.2,>=0.1->langchain-google-genai) (1.3.0)\n",
      "Requirement already satisfied: exceptiongroup in c:\\users\\jamal\\documents\\ai\\pythonvenv\\envpython310\\lib\\site-packages (from anyio<5,>=3->langchain-core<0.2,>=0.1->langchain-google-genai) (1.2.0)\n",
      "Requirement already satisfied: googleapis-common-protos<2.0.dev0,>=1.56.2 in c:\\users\\jamal\\documents\\ai\\pythonvenv\\envpython310\\lib\\site-packages (from google-api-core->google-generativeai<0.4.0,>=0.3.1->langchain-google-genai) (1.62.0)\n",
      "Requirement already satisfied: cachetools<6.0,>=2.0.0 in c:\\users\\jamal\\documents\\ai\\pythonvenv\\envpython310\\lib\\site-packages (from google-auth->google-generativeai<0.4.0,>=0.3.1->langchain-google-genai) (5.3.2)\n",
      "Requirement already satisfied: pyasn1-modules>=0.2.1 in c:\\users\\jamal\\documents\\ai\\pythonvenv\\envpython310\\lib\\site-packages (from google-auth->google-generativeai<0.4.0,>=0.3.1->langchain-google-genai) (0.3.0)\n",
      "Requirement already satisfied: rsa<5,>=3.1.4 in c:\\users\\jamal\\documents\\ai\\pythonvenv\\envpython310\\lib\\site-packages (from google-auth->google-generativeai<0.4.0,>=0.3.1->langchain-google-genai) (4.9)\n",
      "Requirement already satisfied: jsonpointer>=1.9 in c:\\users\\jamal\\documents\\ai\\pythonvenv\\envpython310\\lib\\site-packages (from jsonpatch<2.0,>=1.33->langchain-core<0.2,>=0.1->langchain-google-genai) (2.4)\n",
      "Requirement already satisfied: annotated-types>=0.4.0 in c:\\users\\jamal\\documents\\ai\\pythonvenv\\envpython310\\lib\\site-packages (from pydantic<3,>=1->langchain-core<0.2,>=0.1->langchain-google-genai) (0.6.0)\n",
      "Requirement already satisfied: pydantic-core==2.14.5 in c:\\users\\jamal\\documents\\ai\\pythonvenv\\envpython310\\lib\\site-packages (from pydantic<3,>=1->langchain-core<0.2,>=0.1->langchain-google-genai) (2.14.5)\n",
      "Requirement already satisfied: charset-normalizer<4,>=2 in c:\\users\\jamal\\documents\\ai\\pythonvenv\\envpython310\\lib\\site-packages (from requests<3,>=2->langchain-core<0.2,>=0.1->langchain-google-genai) (3.3.2)\n",
      "Requirement already satisfied: urllib3<3,>=1.21.1 in c:\\users\\jamal\\documents\\ai\\pythonvenv\\envpython310\\lib\\site-packages (from requests<3,>=2->langchain-core<0.2,>=0.1->langchain-google-genai) (1.26.18)\n",
      "Requirement already satisfied: certifi>=2017.4.17 in c:\\users\\jamal\\documents\\ai\\pythonvenv\\envpython310\\lib\\site-packages (from requests<3,>=2->langchain-core<0.2,>=0.1->langchain-google-genai) (2023.11.17)\n",
      "Requirement already satisfied: colorama in c:\\users\\jamal\\documents\\ai\\pythonvenv\\envpython310\\lib\\site-packages (from tqdm->google-generativeai<0.4.0,>=0.3.1->langchain-google-genai) (0.4.6)\n",
      "Requirement already satisfied: grpcio<2.0dev,>=1.33.2 in c:\\users\\jamal\\documents\\ai\\pythonvenv\\envpython310\\lib\\site-packages (from google-api-core[grpc]!=2.0.*,!=2.1.*,!=2.10.*,!=2.2.*,!=2.3.*,!=2.4.*,!=2.5.*,!=2.6.*,!=2.7.*,!=2.8.*,!=2.9.*,<3.0.0dev,>=1.34.0->google-ai-generativelanguage==0.4.0->google-generativeai<0.4.0,>=0.3.1->langchain-google-genai) (1.60.0)\n",
      "Requirement already satisfied: grpcio-status<2.0.dev0,>=1.33.2 in c:\\users\\jamal\\documents\\ai\\pythonvenv\\envpython310\\lib\\site-packages (from google-api-core[grpc]!=2.0.*,!=2.1.*,!=2.10.*,!=2.2.*,!=2.3.*,!=2.4.*,!=2.5.*,!=2.6.*,!=2.7.*,!=2.8.*,!=2.9.*,<3.0.0dev,>=1.34.0->google-ai-generativelanguage==0.4.0->google-generativeai<0.4.0,>=0.3.1->langchain-google-genai) (1.60.0)\n",
      "Requirement already satisfied: pyasn1<0.6.0,>=0.4.6 in c:\\users\\jamal\\documents\\ai\\pythonvenv\\envpython310\\lib\\site-packages (from pyasn1-modules>=0.2.1->google-auth->google-generativeai<0.4.0,>=0.3.1->langchain-google-genai) (0.5.1)\n",
      "Downloading langchain_google_genai-0.0.5-py3-none-any.whl (14 kB)\n",
      "Installing collected packages: langchain-google-genai\n",
      "Successfully installed langchain-google-genai-0.0.5\n"
     ]
    }
   ],
   "source": [
    "%pip install -U langchain-google-genai"
   ]
  },
  {
   "cell_type": "code",
   "execution_count": 5,
   "metadata": {},
   "outputs": [],
   "source": [
    "import langchain\n",
    "import langchain_experimental\n",
    "from langchain.llms import google_palm"
   ]
  },
  {
   "cell_type": "code",
   "execution_count": 22,
   "metadata": {},
   "outputs": [],
   "source": [
    "from langchain.vectorstores import FAISS\n",
    "from langchain.embeddings import GooglePalmEmbeddings\n",
    "from langchain.llms import GooglePalm\n",
    "from langchain.document_loaders import PyPDFLoader\n",
    "from langchain_google_genai import GoogleGenerativeAIEmbeddings"
   ]
  },
  {
   "cell_type": "code",
   "execution_count": 12,
   "metadata": {},
   "outputs": [],
   "source": [
    "loader = PyPDFLoader(\"./data/FTA PMO RFP_Final_11.09.23_Executed.pdf\")\n",
    "pages = loader.load_and_split()"
   ]
  },
  {
   "cell_type": "code",
   "execution_count": 13,
   "metadata": {},
   "outputs": [
    {
     "data": {
      "text/plain": [
       "Document(page_content='DOT/FTA Request for Proposal                                                                                              RFP No.:  69319524R000001  \\n  \\n \\n   \\n REQUEST FOR PROPOSAL (RFP)  \\n2024 PROJECT MANAGEMENT OVERSIGHT   \\n \\nU.S. Department of Transportation   \\n \\n \\n \\n \\n \\nIssue d by:  \\nThe Office of Acquisition Management   \\nPMO Division TAD -41  \\nWashington D.C.  20590', metadata={'source': './data/FTA PMO RFP_Final_11.09.23_Executed.pdf', 'page': 0})"
      ]
     },
     "execution_count": 13,
     "metadata": {},
     "output_type": "execute_result"
    }
   ],
   "source": [
    "pages[0]"
   ]
  },
  {
   "cell_type": "code",
   "execution_count": 25,
   "metadata": {},
   "outputs": [],
   "source": [
    "faiss_index = FAISS.from_documents(pages, GooglePalmEmbeddings(model_name=\"models/embedding-gecko-001\",google_api_key=os.getenv(\"GOOGLE_API_KEY\")))"
   ]
  },
  {
   "cell_type": "code",
   "execution_count": 27,
   "metadata": {},
   "outputs": [
    {
     "name": "stdout",
     "output_type": "stream",
     "text": [
      "164: DOT/FTA Request for Proposal                                                                       RFP No.:  69319524R000001  \n",
      "164 If the licensed  Contractor  personnel  fail to maintain  an active  license  or certificate,  or the \n",
      "requested license or certificate lapses during the Period of Perfo\n",
      "59: DOT/FTA Request for Proposal                                                                                              RFP  No.: 69319524R000001  \n",
      " \n",
      "59 Program Manager :  The Program Manager under the PMO program will provide technical \n",
      "oversight, guidance, and technical management regarding this\n",
      "31: DOT/FTA Request for Proposal                                                                                              RFP  No.:  69319524R000001  \n",
      " \n",
      "31 \n",
      " If the licensed Contractor personnel fail to maintain an active license or certificate, or the requested \n",
      "license or certificate lapses during\n",
      "179: DOT/FTA Request for Proposal                                                                       RFP No.:  69319524R000001  \n",
      "179 Tunneling Engineer: Minimum of 10 years e xperience as a Tunnel Engineer with 3 years \n",
      "either as a Senior Tunnel Engineer or Project Manager.  \n",
      "• Bachelor’s Degree in Ci\n",
      "32: DOT/FTA Request for Proposal                                                                                              RFP  No.:  69319524R000001  \n",
      " \n",
      "32 \n",
      " *Task Order Manager I : The Task Order Manager I is responsible for managing the day -to-day \n",
      "Task Order activities and will be the primary po\n"
     ]
    }
   ],
   "source": [
    "docs = faiss_index.similarity_search(\"what are the duties of the program manager\", k=5)\n",
    "for doc in docs:\n",
    "    print(str(doc.metadata[\"page\"]) + \":\", doc.page_content[:300])"
   ]
  }
 ],
 "metadata": {
  "kernelspec": {
   "display_name": "envChainlit312",
   "language": "python",
   "name": "python3"
  },
  "language_info": {
   "codemirror_mode": {
    "name": "ipython",
    "version": 3
   },
   "file_extension": ".py",
   "mimetype": "text/x-python",
   "name": "python",
   "nbconvert_exporter": "python",
   "pygments_lexer": "ipython3",
   "version": "3.10.11"
  }
 },
 "nbformat": 4,
 "nbformat_minor": 2
}
